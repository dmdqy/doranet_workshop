{
  "nbformat": 4,
  "nbformat_minor": 0,
  "metadata": {
    "colab": {
      "provenance": [],
      "private_outputs": true
    },
    "kernelspec": {
      "name": "python3",
      "display_name": "Python 3"
    },
    "language_info": {
      "name": "python"
    }
  },
  "cells": [
    {
      "cell_type": "markdown",
      "source": [
        "# DORAnet Example: Hybrid Pathways\n",
        "Follow the presentation using the Colab notebook below!"
      ],
      "metadata": {
        "id": "CWFBvkMdnE8t"
      }
    },
    {
      "cell_type": "markdown",
      "source": [
        "Install doranet from PyPI using `pip`."
      ],
      "metadata": {
        "id": "oUsevK9unWLV"
      }
    },
    {
      "cell_type": "code",
      "execution_count": null,
      "metadata": {
        "id": "2FETdBiEebXm"
      },
      "outputs": [],
      "source": [
        "!pip install doranet"
      ]
    },
    {
      "cell_type": "markdown",
      "source": [
        "The `enzymatic` module wraps various assumptions required for an enzymatic network expansion. Similarly, The `synthetic` module can be used for a chemical network expansion. The `post_processing` module wraps functions which produce various kinds of output (PDFs, etc.)."
      ],
      "metadata": {
        "id": "xAWkK1wYn0Oj"
      }
    },
    {
      "cell_type": "code",
      "source": [
        "import doranet.modules.enzymatic as enzymatic\n",
        "import doranet.modules.synthetic as synthetic\n",
        "import doranet.modules.post_processing as post_processing"
      ],
      "metadata": {
        "id": "DcTmLOn7Lt9o"
      },
      "execution_count": null,
      "outputs": []
    },
    {
      "cell_type": "markdown",
      "source": [
        "Next, we select the molecules to be used for the expansions.\n",
        "\n",
        "Molecules are written in the form of SMILES (simplified molecular-input line-entry system). A SMILES is a string for describing the structure of a molecule. SMILES of specific molecules can be found on PubChem, Wikipedia and many other websites.\n",
        "\n",
        "https://pubchem.ncbi.nlm.nih.gov/\n",
        "\n",
        "https://www.wikipedia.org/\n",
        "\n",
        "\n",
        "Here we define the starters, helpers, and target as SMILES in sets. We can also use names of files which contain the SMILES. Each file can be a txt, csv, or other similar text file, and within the file each line is one SMILES.\n",
        "\n",
        "For example: `starters = \"starters.txt\"`\n",
        "\n",
        "\"helpers\" are only used in chemical expansions. They are the molecules that can react with starters, but they can not be the only reactants of a reaction. Helpers are optional, but it should be noted that many chemical rules require common helpers like oxygen and water.\n",
        "\n",
        "Another difference is, in the final PDF file, helpers are not shown as pictures of molecules. Instead they are noted in the text with the reaction names.\n",
        "\n"
      ],
      "metadata": {
        "id": "TsxgIpd8Ow7P"
      }
    },
    {
      "cell_type": "code",
      "source": [
        "user_starters = {   }  # try adding ethanol, 'CCO'\n",
        "user_helpers = {  }      # try adding water, oxygen, 'O', 'O=O'\n",
        "user_target = {  }        # try adding acetic acid, 'CC(O)=O'\n",
        "job_name = \"Acetic_acid_hybrid\""
      ],
      "metadata": {
        "id": "emAflru5OzZW"
      },
      "execution_count": null,
      "outputs": []
    },
    {
      "cell_type": "markdown",
      "source": [
        "Next, a bio reaction network can be generated using the `enzymatic.generate_network()` function in the `\"forward\"` direction.  The expansion depth is a single generation.  The forward expansion here uses the enzymatic operators (reaction rules) that came with DORAnet.\n",
        "\n",
        "The enzymatic operators are stored in a tsv file under `doranet/modules/enzymatic`. Each entry contains the UniProt ID of the known reactions where the operator was from."
      ],
      "metadata": {
        "id": "_ohpWZ5AoEdo"
      }
    },
    {
      "cell_type": "code",
      "source": [
        "forward_network = enzymatic.generate_network(\n",
        "    job_name = job_name,\n",
        "    starters = user_starters,\n",
        "    gen = 1,\n",
        "    direction = \"forward\",\n",
        "    )"
      ],
      "metadata": {
        "id": "mdiEZYcRwgTH"
      },
      "execution_count": null,
      "outputs": []
    },
    {
      "cell_type": "markdown",
      "source": [
        "A retrosynthetic network with chemical rules can be generated using the `synthetic.generate_network()` function in the `\"retro\"` direction, similar to the forward network above.  In this case, the \"starter\" molecule set is simply the target molecule."
      ],
      "metadata": {
        "id": "hlkwLL_hoP4o"
      }
    },
    {
      "cell_type": "code",
      "source": [
        "retro_network = synthetic.generate_network(\n",
        "    job_name = job_name,\n",
        "    starters = user_target,\n",
        "    helpers = user_helpers,\n",
        "    gen = 1,\n",
        "    direction = \"retro\",\n",
        "    )"
      ],
      "metadata": {
        "id": "9TpVhC-xK_vw"
      },
      "execution_count": null,
      "outputs": []
    },
    {
      "cell_type": "markdown",
      "source": [
        "Next, the `post_processing` function is called, which searches the two networks for connections between the starting set of molecules and the target.  This function produces various kinds of output, including a PDF document.  \n",
        "\n",
        "For the best graph layout in the pathway PDF file, it is recommended to install pygraphviz and Graphviz. They can be installed using this single command:\n",
        "\n",
        "`conda install conda-forge::pygraphviz`\n",
        "\n",
        "Otherwise a custom layout will be used for the PDF file, which may have difficulties for complex pathways.\n",
        "\n",
        "If using pre-existing network files on disk, we can use the names of the network files here.\n",
        "\n",
        "For example, `networks = {\"Acetic_acid_hybrid__forward_saved_network\"}`"
      ],
      "metadata": {
        "id": "UrIVcosiof44"
      }
    },
    {
      "cell_type": "code",
      "source": [
        "post_processing.one_step(\n",
        "    networks = {\n",
        "        forward_network,\n",
        "        retro_network\n",
        "        },\n",
        "    total_generations = 2,\n",
        "    starters = user_starters,\n",
        "    helpers = user_helpers,\n",
        "    target = user_target,\n",
        "    job_name = job_name,\n",
        "    )"
      ],
      "metadata": {
        "id": "OUtm2MJXLLFj"
      },
      "execution_count": null,
      "outputs": []
    },
    {
      "cell_type": "markdown",
      "source": [
        "# Extra 1 Post-processing in Steps"
      ],
      "metadata": {
        "id": "UCo3iXpvektX"
      }
    },
    {
      "cell_type": "markdown",
      "source": [
        "The one-step post-processing function contains 4 steps within itself:\n",
        "1. pretreat_networks: combines multiple networks, sanitizes the reactions, and saves a json file on disk.\n",
        "2. pathway_finder: searches for pathways, saves a txt file with all pathways on disk. Also saves files for Reaxys query.\n",
        "3. pathway_ranking: ranks pathways, saves a txt file with ranked pathways on disk.\n",
        "4. pathway_visualization: saves a PDF file with all pathways on disk.\n",
        "\n",
        "For a new run it might be difficult to get everything right at first. What if you want to redo the ranking using different weights but don't want to redo the pretreatment and pathway search? You can do the post-processing step by step instead of using the one_step function. This is also necessary if you're using Reaxys hits for ranking, as the Reaxys query and result need manual operation between the steps.\n",
        "\n",
        "\n",
        "\n",
        "\n",
        "```\n",
        "# Post processing in steps\n",
        "post_processing.pretreat_networks(\n",
        "    networks = {\n",
        "        forward_network,\n",
        "        retro_network,\n",
        "        },\n",
        "    total_generations = 2,\n",
        "    starters = user_starters,\n",
        "    helpers = user_helpers,\n",
        "    job_name = job_name,\n",
        "    )\n",
        "\n",
        "post_processing.pathway_finder(\n",
        "    starters = user_starters,\n",
        "    helpers = user_helpers,\n",
        "    target = user_target,\n",
        "    search_depth = 2,\n",
        "    max_num_rxns = 2,\n",
        "    min_rxn_atom_economy = 0.5,\n",
        "    job_name=job_name,\n",
        "    )\n",
        "\n",
        "post_processing.pathway_ranking(\n",
        "    starters = user_starters,\n",
        "    helpers = user_helpers,\n",
        "    target = user_target,\n",
        "    num_process = 2,\n",
        "    job_name = job_name,\n",
        "    )\n",
        "\n",
        "post_processing.pathway_visualization(\n",
        "    starters = user_starters,\n",
        "    helpers = user_helpers,\n",
        "    num_process = 2,\n",
        "    job_name = job_name,\n",
        "    )\n",
        "```\n",
        "\n"
      ],
      "metadata": {
        "id": "BKc8zhYlddZp"
      }
    },
    {
      "cell_type": "markdown",
      "source": [
        "# Extra 2 Thermodynamic Filters\n",
        "\n",
        "Thermodynamic calculators can be used during the expansion to filter out reactions with thermodynamic change above the limit. DORAnet does not contain such calculators, but users can use their own. The calculators work differently for chemical and bio expansions.\n",
        "\n",
        "In a checmial expansion, the calculator function takes the SMILES of a molecule, and produces its thermodynamic value (for example, the enthalpy of formation of this molecule).\n",
        "\n",
        "In a bio expansion, the calculator function takes a dictionary, which contains the reactants and products of a reaction, and produces the thermodynamic change of this reaction (for example, dG of this reaction)."
      ],
      "metadata": {
        "id": "8NmPfMP-nd6N"
      }
    },
    {
      "cell_type": "markdown",
      "source": [
        "```python\n",
        "# Chemical expansion\n",
        "def mol_dH(SMILES): # example thermodynamic calculator for chemical expansion\n",
        "    # do something to get the thermodynamic value of this molecule\n",
        "    return 0  # value of this molecule\n",
        "\n",
        "retro_network = synthetic.generate_network(\n",
        "    job_name = job_name,\n",
        "    starters = user_target,\n",
        "    helpers = user_helpers,\n",
        "    gen = 1,\n",
        "    direction = \"retro\",\n",
        "    molecule_thermo_calculator = mol_dH,\n",
        "    max_rxn_thermo_change = 15,\n",
        "    )\n",
        "\n",
        "# Bio expansion\n",
        "def rxn_dG(rxn_dict): # example thermodynamic calculator for bio expansion\n",
        "    reactants = rxn_dict[\"reactants\"]\n",
        "    products = rxn_dict[\"products\"]\n",
        "    # do something to get the thermodynamic change of this reaction\n",
        "    return 0  # value of this reaction\n",
        "\n",
        "retro_network = enzymatic.generate_network(\n",
        "    job_name = job_name,\n",
        "    starters = {\"OC(=O)C(=O)CCCO\"},\n",
        "    gen = 1,\n",
        "    direction = \"retro\",\n",
        "    rxn_thermo_calculator = rxn_dG,\n",
        "    max_rxn_thermo_change = 0,\n",
        ")\n",
        "```"
      ],
      "metadata": {
        "id": "XmL1EUASRokA"
      }
    },
    {
      "cell_type": "markdown",
      "source": [
        "# Extra 3 Optional Arguments\n",
        "\n"
      ],
      "metadata": {
        "id": "nfqRFNCBy5k0"
      }
    },
    {
      "cell_type": "markdown",
      "source": [
        "Below lists all the arguments that can be used in the functions to generate network and post-processing."
      ],
      "metadata": {
        "id": "z3xl6ZMgSkXs"
      }
    },
    {
      "cell_type": "markdown",
      "source": [
        "synthetic.generate_network\n",
        "```\n",
        "generate_network(\n",
        "    job_name=\"default_job\",\n",
        "    starters=False,\n",
        "    helpers=False,\n",
        "    gen=1,\n",
        "    direction=\"forward\",\n",
        "    molecule_thermo_calculator=None,\n",
        "    max_rxn_thermo_change=15,\n",
        "    max_atoms=None,  # Use a dictionary of atom symbols and the max number of atoms, for example: {\"C\": 20, \"O\": 10} means any product molecule can have at most 20 carbon and 10 oxygen atoms.\n",
        "    allow_multiple_reactants=\"default\",  # By default True in forward expansion, False in retro expansion. If False, a reactant can react with itself or helpers, but not with other reactants.\n",
        "    targets=None,  # String or list, set, etc. At the end of expansion, check if targets are in the network.\n",
        "    )\n",
        "```\n",
        "\n",
        "enzymatic.generate_network\n",
        "\n",
        "Note: no user helpers in enzymatic expansion. DORAnet comes with a list of cofactors for bio rules and they act similar to helpers.\n",
        "\n",
        "\n",
        "```\n",
        "generate_network(\n",
        "    job_name=\"default_job\",\n",
        "    starters=False,\n",
        "    gen=1,\n",
        "    direction=\"forward\",\n",
        "    rxn_thermo_calculator=None,\n",
        "    max_rxn_thermo_change=15,\n",
        "    max_atoms=None,  # For example: {\"C\": 20, \"O\": 10}\n",
        "    allow_multiple_reactants=False,\n",
        "    targets=None,  # string or list, set, etc.\n",
        ")\n",
        "```\n",
        "\n",
        "post_processing\n",
        "\n",
        "\n",
        "\n",
        "```\n",
        "pretreat_networks(\n",
        "    networks=None,\n",
        "    total_generations=1,\n",
        "    starters=None,\n",
        "    helpers=None,\n",
        "    job_name=\"default_job_name\",\n",
        "    remove_pure_helpers_rxns=False, # If True, reactions with only helpers as reactants are removed\n",
        "    sanitize=True, # If True, molecules cannot be reached from the starters/helpers within total_generations are removed.\n",
        "    transform_enols_flag=False, # If true, if a product of a reaction is an enol, it is transformed into its keto form.\n",
        "    molecule_thermo_calculator=None, # Can be used to calculate the thermodynamic change for the enol transformation\n",
        ")\n",
        "\n",
        "pathway_finder(\n",
        "    starters=None,\n",
        "    helpers=None,\n",
        "    target=None,\n",
        "    search_depth=1, # Should not be larger than the total_generations in pretreat_network\n",
        "    max_num_rxns=1, # Max number of reactions in a pathway\n",
        "    min_rxn_atom_economy=0.3, # Min atom economy of any reaction in a pathway. Between 0-1.\n",
        "    job_name=\"default_job_name\",\n",
        "    consider_name_difference=True, # If true, two reactions with different names but otherwise same are considered different reactions.\n",
        ")\n",
        "\n",
        "pathway_ranking(\n",
        "    starters=None,\n",
        "    helpers=None,\n",
        "    target=None,\n",
        "    weights=None, # Default ranking weights: {\"reaction_thermo\": 2,\n",
        "                                              \"number_of_steps\": 4,\n",
        "                                              \"by_product_number\": 2,\n",
        "                                              \"atom_economy\": 1,\n",
        "                                              \"salt_score\": 0,\n",
        "                                              \"in_reaxys\": 0,\n",
        "                                              \"coolness\": 0,}\n",
        "    num_process=1, # Number of processes for multi-processing\n",
        "    reaxys_result_name=None, # Name of the csv file\n",
        "    job_name=\"default_job_name\",\n",
        "    cool_reactions=None,\n",
        "    molecule_thermo_calculator=None,  # For by-product calculator\n",
        "    max_rxn_thermo_change=15,\n",
        ")\n",
        "\n",
        "pathway_visualization(\n",
        "    starters=None,\n",
        "    helpers=None,\n",
        "    num_process=1, # Number of processes for multi-processing\n",
        "    reaxys_result_name=\"default\",\n",
        "    job_name=\"default_job_name\",\n",
        "    exclude_smiles=None, # A set, list, etc. Pathways with such molecules won't be visualized.\n",
        "    reaxys_rxn_color=\"blue\",\n",
        "    normal_rxn_color=\"black\",\n",
        ")\n",
        "\n",
        "```\n",
        "\n"
      ],
      "metadata": {
        "id": "XUxgRPKEzFt_"
      }
    },
    {
      "cell_type": "markdown",
      "source": [
        "# Extra 4 Reaxys Batch Query\n",
        "\n",
        "Reference for submitting batch query: https://service.elsevier.com/app/answers/detail/a_id/26151/supporthub/reaxys/p/10958/\n",
        "\n",
        "pathway_finder generate a txt file containing all reactions in all pathways and can be used as the batch query for Reaxys. It also generates a csv file with 0s as place holders for Reaxys results.\n",
        "\n",
        "If you have access to Reaxys, you can upload the batch query, and copy the result log to the csv file. They can be used in the pathway ranking and visualization step."
      ],
      "metadata": {
        "id": "vYSDNAsK04sX"
      }
    },
    {
      "cell_type": "markdown",
      "source": [
        "# Extra 5 Install DORAnet on Your Machine\n",
        "\n",
        "\n",
        "It is recommend to install DORAnet in a virtual environment. Conda is a popular tool for managing virtual environments.\n",
        "\n",
        "1. Install Miniconda or Anaconda\n",
        "\n",
        "  Miniconda   https://docs.anaconda.com/free/miniconda/\n",
        "\n",
        "  Anaconda    https://docs.anaconda.com/free/anaconda/install/\n",
        "\n",
        "\n",
        "2. Run the installer\n",
        "\n",
        "  Follow the on-screen instructions\n",
        "\n",
        "\n",
        "3. Use conda with command line\n",
        "\n",
        "  Linux and mac: open the built-in terminal\n",
        "\n",
        "  Windows: open the Anaconda Powershell Prompt\n",
        "\n",
        "\n",
        "4. Create and Activate an Environment\n",
        "\n",
        "  If you already have an environment to install DORAnet in:\n",
        "\n",
        "  `conda activate your_env_name`\n",
        "\n",
        "  If you want to create a new environment to install DORAnet in:\n",
        "\n",
        "  `conda create -n your_env_name python=3.10`\n",
        "\n",
        "  `conda activate your_env_name`\n",
        "\n",
        "\n",
        "5. Install DORAnet\n",
        "\n",
        "  `pip install doranet`\n",
        "\n",
        "  Update DORAnet:\n",
        "\n",
        "  `pip install doranet --upgrade`\n"
      ],
      "metadata": {
        "id": "Mkj8qO12gOuc"
      }
    },
    {
      "cell_type": "markdown",
      "source": [
        "# Extra 6 Common Issues\n",
        "\n",
        "If you are running post-processing on Windows, it is recommended to run your code under `if __name__ == \"__main__\":`. This helps avoid potential issues with multi-processing.\n",
        "\n",
        "\n",
        "\n",
        "```\n",
        "if __name__ == \"__main__\":\n",
        "    post_processing.one_step(...)\n",
        "```\n",
        "\n"
      ],
      "metadata": {
        "id": "p4G2ya10qS0s"
      }
    }
  ]
}